{
 "cells": [
  {
   "cell_type": "markdown",
   "metadata": {},
   "source": [
    "# MOESP ALGORITHM"
   ]
  },
  {
   "cell_type": "markdown",
   "metadata": {},
   "source": [
    "We discuss the basic subspace identification method called MOESP\n",
    "method 4 due to Verhaegen and Dewilde [172, 173].\n",
    "\n",
    "This are the general steps to obtain the matrices A, B, C, D with this method:\n",
    "\n",
    "$\\textbf{Step 1:}$ Compute the LQ decomposition of (6.32).\n",
    "\n",
    "$\\textbf{Step 2:}$ Compute the SVD of (6.39), and let $n:=dim(\\Sigma_1)$ and define the extended observability matrix as\n",
    "\n",
    "$\\mathcal{O}_k = U_k \\Sigma_1^{1/2}$\n",
    "\n",
    "$\\textbf{Step 3:}$ Obtain C and A from (6.41) and (6.42), respectively.\n",
    "\n",
    "$\\textbf{Step 4:}$ Solve (6.44) by the least-squares method to estimate B and D."
   ]
  },
  {
   "cell_type": "markdown",
   "metadata": {},
   "source": [
    "### MOESP PROGRAM IN PYTHON"
   ]
  },
  {
   "cell_type": "markdown",
   "metadata": {},
   "source": [
    "### 1. Import Libraries"
   ]
  },
  {
   "cell_type": "code",
   "execution_count": 17,
   "metadata": {},
   "outputs": [],
   "source": [
    "import numpy as np\n",
    "import matplotlib.pyplot as plt\n",
    "import scipy.linalg"
   ]
  },
  {
   "cell_type": "markdown",
   "metadata": {},
   "source": [
    "### 2. Use a Benchmark\n",
    "Choose one option to test and disable the other to test this program:\n",
    "\n",
    "$\\textbf{Option 1:}$\n",
    "In this option it is generate the matrices selecting the numbers of inputs, outputs and states of the dynamic system."
   ]
  },
  {
   "cell_type": "code",
   "execution_count": 18,
   "metadata": {},
   "outputs": [],
   "source": [
    "#NUMBER OF SAMPLES\n",
    "N = 100\n",
    "#NUMBER OF INPUTS\n",
    "m = 3\n",
    "#NUMBER OF OUTPUTS\n",
    "p = 2\n",
    "#NUMBER OF STATES\n",
    "n = 2\n",
    "#BENCHMARK1\n",
    "A = np.random.randn(n,n) # n x n = 2 x 2\n",
    "B = np.random.randn(n,m) # n x m = 2 x 3\n",
    "C = np.random.randn(p,n) # p x n = 2 x 2\n",
    "D = np.random.randn(p,m) # p x m = 2 x 3"
   ]
  },
  {
   "cell_type": "markdown",
   "metadata": {},
   "source": [
    "$\\textbf{Option 2:}$\n",
    "In this Benchmark it is selected an especifics matrices, that represent a dynamic system with some characteristics like estability."
   ]
  },
  {
   "cell_type": "code",
   "execution_count": 19,
   "metadata": {},
   "outputs": [],
   "source": [
    "#BENCHMARK2\n",
    "# A=np.array([[0.6, 0.4],[-0.4, 0.6]])\n",
    "# B=np.array([[0],[1]])\n",
    "# C=np.array([[1,0.5]])\n",
    "# D=np.array([[0]])\n",
    "# n = len(A)\n",
    "# m = len(B[1])\n",
    "# p = len(C)\n",
    "#NUMBER OF SAMPLES\n",
    "#N = 100"
   ]
  },
  {
   "cell_type": "markdown",
   "metadata": {},
   "source": [
    "### 3. Generate an Output using an Input\n",
    "\n",
    "Using an specific input or random input, it is generate an ouput with N samples.\n",
    "\n",
    "$$\n",
    "\\begin{equation*}\n",
    "\\textbf{x}_{t+1} = \\textbf{A} \\textbf{x}_{t} + \\textbf{B} \\textbf{u}_{t}\\\\\n",
    "\\textbf{y}_{t} = \\textbf{C} \\textbf{x}_{t} + \\textbf{D} \\textbf{u}_{t}\n",
    "\\end{equation*}\n",
    "$$\n",
    "\n",
    "where the dimensions of matrices are:\n",
    "\n",
    "$A \\in \\mathbb{R}^{n \\times n},\n",
    "B \\in \\mathbb{R}^{n \\times m},\n",
    "C \\in \\mathbb{R}^{p \\times n},\n",
    "D \\in \\mathbb{R}^{p \\times m}\n",
    "$"
   ]
  },
  {
   "cell_type": "code",
   "execution_count": 20,
   "metadata": {},
   "outputs": [],
   "source": [
    "u = np.random.randn(m,N) # m=3\n",
    "x = np.random.randn(n,1) # n=2\n",
    "x_aux = []\n",
    "y_aux = []\n",
    "y = np.zeros((p,1))\n",
    "for t in range(0,N):\n",
    "    x_aux= np.dot(A, x[:,t]) +np.dot(B,u[:,t])\n",
    "    x_aux = np.reshape(x_aux,(-1,1))\n",
    "    x = np.append(x,x_aux,axis = 1)\n",
    "    y_aux = np.dot(C,x[:,t]) + np.dot(D,u[:,t])\n",
    "    y_aux = np.reshape(y_aux,(-1,1))\n",
    "    y = np.append(y,y_aux, axis=1)\n",
    "\n",
    "x = x[:,:-1]\n",
    "y = y[:,1:]"
   ]
  },
  {
   "cell_type": "markdown",
   "metadata": {},
   "source": [
    "The variables of m, p, n that represent, the number of input, number of ouputs and number of states will be used in the rest of the program. "
   ]
  },
  {
   "cell_type": "code",
   "execution_count": 21,
   "metadata": {},
   "outputs": [],
   "source": [
    "#NUMBER OF INPUTS\n",
    "m = len(u)\n",
    "#NUMBER OF OUTPUTS\n",
    "p = len(y)\n",
    "#NUMBER OF STATES\n",
    "n = len(x)\n",
    "#NUMBER OF INPUT AND OUTPUT IN THE HANKEL MATRIX\n",
    "k = 8 \n",
    "#NUMBER OF SAMPLES USED IN THE HANKEL MATRIX\n",
    "N_prima = N-k+1"
   ]
  },
  {
   "cell_type": "markdown",
   "metadata": {},
   "source": [
    "### 4. Generate an Input and Output past\n",
    "\n",
    "From chapter (6.3), where N_prima is sufficiently large, k>0 and k is strictly greater than n.\n",
    "\n",
    "$$ \\begin{equation*}\n",
    "U_{o|k-1} = \\begin{bmatrix} u(0) & u(1) & \\dots & u(N-1) \\\\ u(1) & u(2) & \\dots & u(N) \\\\ \\vdots & \\vdots & & \\vdots \\\\ u(k-1) & u(k) & \\dots & u(k+N-2) \\end{bmatrix} \\in \\mathbb{R}^{km\\times N} \\\\ \n",
    "Y_{o|k-1} = \\begin{bmatrix} y(0) & y(1) & \\dots & y(N-1) \\\\ y(1) & y(2) & \\dots & y(N) \\\\ \\vdots & \\vdots & & \\vdots \\\\ y(k-1) & y(k) & \\dots & y(k+N-2) \\end{bmatrix} \\in \\mathbb{R}^{kp\\times N} \n",
    "\\end{equation*}\n",
    "$$"
   ]
  },
  {
   "cell_type": "code",
   "execution_count": 22,
   "metadata": {},
   "outputs": [],
   "source": [
    "#Past: U and Y\n",
    "U_past = u[:,:N_prima]\n",
    "Y_past = y[:,:N_prima]\n",
    "for i in range(1,k):\n",
    "    U_past = np.append(U_past,u[:,i:N_prima+i],axis=0)\n",
    "    Y_past = np.append(Y_past,y[:,i:N_prima+i],axis=0)"
   ]
  },
  {
   "cell_type": "markdown",
   "metadata": {},
   "source": [
    "### 5. LQ Decomposition\n",
    "\n",
    "Let the LQ decomposition of a data matrix be given by\n",
    "$$\n",
    "\\begin{equation}\n",
    "\\begin{bmatrix} U_{o|k-1} \\\\ Y_{o|k-1} \\end{bmatrix} = \\begin{bmatrix} L_{11} & 0 \\\\ L_{21} & L_{22}\\end{bmatrix} \\begin{bmatrix}Q_1^T \\\\ Q_2^T\\end{bmatrix} \n",
    "\\end{equation}\\tag{6.32}\n",
    "$$\n",
    "\n",
    "$L_{11}\\in\\mathbb{R}^{km\\times km}, L_{21}\\in\\mathbb{R}^{kp\\times km},\n",
    "L_{22}\\in\\mathbb{R}^{kp\\times kp}$ with $L_{11}, L_{22}$ lower triangular, and $Q_1\\in\\mathbb{R}^{N\\times km}, Q_2\\in\\mathbb{R}^{N\\times kp}$ are orthogonal. The actual computation of LQ decomposition is performed by taking the transpose of the QR decomposition of the tall matrix\n",
    "\n",
    "$$\n",
    "\\begin{equation*}\n",
    "\\begin{bmatrix} U_{o|k-1}^{T} & Y_{o|k-1}^{T}\n",
    "\\end{bmatrix}\\in \\mathbb{R}^{N\\times k(m+p)}\n",
    "\\end{equation*}\n",
    "$$\n",
    "\n",
    "see the table 6.1 of \"Subspace Methods for System Identification\" from Tohru Katayama.\n",
    "\n",
    "From (6.32), we obtain \n",
    "\n",
    "$$\n",
    "\\begin{equation}\n",
    "\\begin{bmatrix} L_{11} & 0 \\\\ L_{21} & L_{22}\\end{bmatrix} = \\begin{bmatrix} U_{o|k-1} \\\\ Y_{o|k-1} \\end{bmatrix} \\begin{bmatrix}Q_1 & Q_2\\end{bmatrix} \n",
    "\\end{equation}\\tag{6.36}\n",
    "$$"
   ]
  },
  {
   "cell_type": "code",
   "execution_count": 23,
   "metadata": {},
   "outputs": [],
   "source": [
    "#LQ DECOMPOSITION of table 6.1\n",
    "# Q, R = scipy.linalg.qr(np.append(U_past,Y_past,axis=0))\n",
    "matrix_transpose = np.transpose(np.append(U_past,Y_past,axis=0))\n",
    "Q, L = scipy.linalg.qr(matrix_transpose)\n",
    "Q = np.transpose(Q)\n",
    "L = np.transpose(L)\n",
    "L11 = L[:k*m,:k*m]\n",
    "L21 = L[k*m:(k*m+k*p),:k*m]\n",
    "L22 = L[k*m:(k*m+k*p),k*m:(k*m+k*p)]"
   ]
  },
  {
   "cell_type": "markdown",
   "metadata": {},
   "source": [
    "### 6. SVD Decomposition\n",
    "\n",
    "It can be obtain the image of the extended observability matrix $\\mathcal{O}_k$ and hence the dimension $n$ from the SVD of $L_{22}\\in\\mathbb{R}^{kp\\times kp}$\n",
    "Let the SVD of $L_{22}$ be given by\n",
    "\n",
    "$$\n",
    "\\begin{equation}\n",
    "L_{22} = \\begin{bmatrix} U_1 & U_2 \\end{bmatrix}\n",
    "\\begin{bmatrix} \\Sigma_1 & 0 \\\\ 0 & 0 \\end{bmatrix} \n",
    "\\begin{bmatrix} V_{1}^T \\\\ V_{2}^T \\end{bmatrix} \n",
    "= U_1 \\Sigma_{1} V_{1}^T \n",
    "\\end{equation}\\tag{6.39}\n",
    "$$\n",
    "\n",
    "where $U_1 \\in\\mathbb{R}^{kp\\times n}$ $U_2 \\in\\mathbb{R}^{kp\\times(kp-n)}$ . Then we have \n",
    "\n",
    "$$\n",
    "\\begin{equation*}\n",
    "\\mathcal{O}_k X_0 Q_2= U_1 \\Sigma_{1} V_{1}^T\n",
    "\\end{equation*}\n",
    "$$\n",
    "\n",
    "so that we define the extended observability matrix as\n",
    "\n",
    "$$\n",
    "\\begin{equation}\n",
    "\\mathcal{O}_k = U_1 \\Sigma_1^{1/2} \n",
    "\\end{equation}\\tag{6.40}\n",
    "$$"
   ]
  },
  {
   "cell_type": "code",
   "execution_count": 24,
   "metadata": {},
   "outputs": [],
   "source": [
    "U_svd,S_svd,V_svd = scipy.linalg.svd(L22, full_matrices=True)\n",
    "S_svd_diag = np.diag(S_svd)\n",
    "S1_svd_diag = S_svd_diag[:n,:n]\n",
    "U1_svd = U_svd[:,:n]\n",
    "O_k = np.dot(U1_svd,scipy.linalg.sqrtm(S1_svd_diag))\n"
   ]
  },
  {
   "cell_type": "markdown",
   "metadata": {},
   "source": [
    "and $n:= dim \\Sigma_1$. The matrix $C$ is readily given by\n",
    "\n",
    "$$\n",
    "\\begin{equation}\n",
    "C = \\mathcal{O}_k (1:p, 1:n) \n",
    "\\end{equation}\\tag{6.41}\n",
    "$$\n",
    "\n",
    "and $A$ is obtained by solving the linear equation (see Lemma 6.1)\n",
    "\n",
    "$$\n",
    "\\begin{equation}\n",
    "\\mathcal{O}_k (1:p(k-1), 1:n) A = \\mathcal{O}_k(p+1:kp,1:n) \n",
    "\\end{equation}\\tag{6.42}\n",
    "$$"
   ]
  },
  {
   "cell_type": "code",
   "execution_count": 25,
   "metadata": {},
   "outputs": [],
   "source": [
    "#Matrices A and C\n",
    "C_k = O_k[:p,:n]\n",
    "A_k = np.dot(np.linalg.pinv(O_k[:p*(k-1),:n]),O_k[p:p*k,:n])"
   ]
  },
  {
   "cell_type": "markdown",
   "metadata": {},
   "source": [
    "Using the equation (6.43) \n",
    "\n",
    "$$\n",
    "\\begin{equation}\n",
    "U_2^T\n",
    "\\begin{bmatrix}D & 0 & \\dots & 0 \\\\ CB & D & \\dots & 0 \\\\ \\vdots & \\vdots & \\ddots & \\vdots \\\\ CA^{k-2}B & CA^{k-3}B & \\dots & D \\end{bmatrix}\n",
    "= U_2^T L_{21} L_{11}^{-1} \n",
    "\\end{equation}\\tag{6.43}\n",
    "$$\n",
    "\n",
    "we define\n",
    "\n",
    "$$\n",
    "\\begin{equation*}\n",
    "U_2^{T}:=\\begin{bmatrix}\\mathcal{L}_1 & \\mathcal{L}_2 & \\dots & \\mathcal{L}_k\\end{bmatrix},\n",
    "\\qquad U_2^T L_{21} L_{11}^{-1}:=\\begin{bmatrix}\\mathcal{M}_1 & \\mathcal{M}_2 & \\dots & \\mathcal{M}_k\\end{bmatrix}\n",
    "\\end{equation*}\n",
    "$$\n",
    "\n",
    "where $\\mathcal{L}_i \\in\\mathbb{R}^{(kp-n)\\times p}$, $i = 1,\\dots,k$ and $\\mathcal{M}_i \\in\\mathbb{R}^{(kp-n)\\times m}$\n",
    "\n",
    "$$\n",
    "\\begin{align*}\n",
    "\\mathcal{L}_1 D+\\mathcal{L}_2 CB+\\dots+\\mathcal{L}_{k-1}CA^{k-3}B+\\mathcal{L}_{k}CA^{k-2}B &= \\mathcal{M}_1 \\\\\n",
    "\\mathcal{L}_2 D+\\mathcal{L}_3 CB+\\dots+\\mathcal{L}_{k}CA^{k-3}B &= \\mathcal{M}_2 \\\\\n",
    "\\vdots \\\\\n",
    "\\mathcal{L}_{k-1} D+\\mathcal{L}_k CB &= \\mathcal{M}_{k-1} \\\\\n",
    "\\mathcal{L}_k D &= \\mathcal{M}_k \\\\\n",
    "\\end{align*}\n",
    "$$\n",
    "\n",
    "\n",
    "\n",
    "So, defining $\\bar{\\mathcal{L}}_i = \\begin{bmatrix}\\mathcal{L}_i & \\mathcal{L}_2 & \\dots & \\mathcal{L}_k\\end{bmatrix} \\in\\mathbb{R}^{(kp-n)\\times (k+1-i)p}$, $i = 2,\\dots,k$, we get the following overdetermined linear equations:\n",
    "\n",
    "$$\n",
    "\\begin{equation}\n",
    "\\begin{bmatrix}\n",
    "\\mathcal{L}_1 & \\bar{\\mathcal{L}}_2 \\mathcal{O}_{k-1}\\\\\n",
    "\\mathcal{L}_2 & \\bar{\\mathcal{L}}_3 \\mathcal{O}_{k-2}\\\\\n",
    "\\vdots & \\vdots\\\\\n",
    "\\mathcal{L}_{k-1} & \\bar{\\mathcal{L}}_k \\mathcal{O}_{1}\\\\\n",
    "\\mathcal{L}_k & 0\n",
    "\\end{bmatrix}\n",
    "\\begin{bmatrix}\n",
    "D \\\\ B\n",
    "\\end{bmatrix}\n",
    "=\n",
    "\\begin{bmatrix}\n",
    "\\mathcal{M}_1 \\\\ \\mathcal{M}_2 \\\\ \\vdots \\\\ \\mathcal{M}_{k-1} \\\\ \\mathcal{M}_k\n",
    "\\end{bmatrix} \n",
    "\\end{equation}\\tag{6.44}\n",
    "$$\n",
    "\n",
    "where the block coefficient matrix in the left-hand side is $k(kp-n)\\times(p+n)-dimensional$. To obtain a unique least-squares solution (D, B) of (6.44), the block matrix has full column rank, so that $k(kp-n)\\geqslant(p+n)$ should be satisfied. It canbe shown that if $k>n$, this condition is satisfied."
   ]
  },
  {
   "cell_type": "code",
   "execution_count": 26,
   "metadata": {},
   "outputs": [],
   "source": [
    "#Matrices B and D with Lk = U2_transpose\n",
    "U2_svd = U_svd[:,n:len((U_svd)[1])]\n",
    "L11_inv = np.linalg.inv(L11)\n",
    "prev_Z = np.dot(np.transpose(U2_svd),L21)\n",
    "Z = np.dot(prev_Z,L11_inv)\n",
    "U2_svd_transpose = np.transpose(U2_svd)\n",
    "\n",
    "Lk_inst_column=[]\n",
    "Mk_inst_column=[]\n",
    "aux_concatenate = []\n",
    "for i in range(0,k):\n",
    "    Lk_inst = U2_svd_transpose[:,range(i*p,(i+1)*p)]\n",
    "    Lk_inst_column.append(Lk_inst)\n",
    "    Mk_inst = Z[:,range(i*m,(i+1)*m)]\n",
    "    Mk_inst_column.append(Mk_inst)\n",
    "    if i<k-1:\n",
    "        Ok_inst_inv = O_k[range(0,(k-i-1)*p),:]\n",
    "        Lk_inst_bar = U2_svd_transpose[:,range((i+1)*p,k*p)]\n",
    "        aux = np.dot(Lk_inst_bar,Ok_inst_inv)\n",
    "        aux_concatenate.append(aux)\n",
    "aux_array = np.concatenate(aux_concatenate)\n",
    "aux_zeros = np.zeros(((k*p)-n,n))#,p-->,n\n",
    "aux_complete = np.concatenate((aux_array,aux_zeros),axis=0)\n",
    "Lk_inst_column_array = np.concatenate(Lk_inst_column)\n",
    "Mk_inst_column_array = np.concatenate(Mk_inst_column)\n",
    "matrix = np.concatenate((Lk_inst_column_array,aux_complete),axis=1)\n",
    "\n",
    "matrix_DB = np.dot(np.linalg.pinv(matrix),Mk_inst_column_array)\n",
    "D_k = matrix_DB[:p,:]\n",
    "B_k = matrix_DB[p:,:]"
   ]
  },
  {
   "cell_type": "markdown",
   "metadata": {},
   "source": [
    "Then we only need to use the matrices found and generate estimated outputs."
   ]
  },
  {
   "cell_type": "code",
   "execution_count": 27,
   "metadata": {},
   "outputs": [],
   "source": [
    "x_out_init = np.random.randn(n,1)\n",
    "x_out = []\n",
    "y_out = []\n",
    "y_init = np.zeros((p,1))\n",
    "for t in range(0,N):\n",
    "    x_out= np.dot(A_k, x_out_init[:,t]) +np.dot(B,u[:,t])\n",
    "    x_out = np.reshape(x_out,(-1,1))\n",
    "    x_out_init = np.append(x_out_init,x_out,axis = 1)\n",
    "    y_out = np.dot(C_k,x_out_init[:,t]) + np.dot(D_k,u[:,t])\n",
    "    y_out= np.reshape(y_out,(-1,1))\n",
    "    y_init = np.append(y_init,y_out, axis=1)\n",
    "x_out_init = x_out_init[:,:-1]\n",
    "y_init = y_init[:,1:]    "
   ]
  },
  {
   "cell_type": "markdown",
   "metadata": {},
   "source": [
    "To graph the ouputs"
   ]
  },
  {
   "cell_type": "code",
   "execution_count": 28,
   "metadata": {},
   "outputs": [
    {
     "data": {
      "text/plain": [
       "[<matplotlib.lines.Line2D at 0x7fc8a4f5aa10>,\n",
       " <matplotlib.lines.Line2D at 0x7fc8a4ea7910>]"
      ]
     },
     "execution_count": 28,
     "metadata": {},
     "output_type": "execute_result"
    },
    {
     "data": {
      "image/png": "[encoded data removed]",
      "text/plain": [
       "<Figure size 432x288 with 1 Axes>"
      ]
     },
     "metadata": {
      "needs_background": "light"
     },
     "output_type": "display_data"
    }
   ],
   "source": [
    "plt.figure()\n",
    "plt.plot(np.transpose(y),'--' )\n",
    "plt.plot(np.transpose(y_init))"
   ]
  }
 ],
 "metadata": {
  "kernelspec": {
   "display_name": "Python 3",
   "language": "python",
   "name": "python3"
  },
  "language_info": {
   "codemirror_mode": {
    "name": "ipython",
    "version": 3
   },
   "file_extension": ".py",
   "mimetype": "text/x-python",
   "name": "python",
   "nbconvert_exporter": "python",
   "pygments_lexer": "ipython3",
   "version": "3.7.7"
  }
 },
 "nbformat": 4,
 "nbformat_minor": 4
}
